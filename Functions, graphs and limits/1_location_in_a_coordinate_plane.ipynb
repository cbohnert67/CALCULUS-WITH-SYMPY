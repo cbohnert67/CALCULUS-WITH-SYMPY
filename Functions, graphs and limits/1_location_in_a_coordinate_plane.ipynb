{
 "cells": [
  {
   "cell_type": "markdown",
   "metadata": {},
   "source": [
    "# Location in a Coordinate Plane"
   ]
  },
  {
   "cell_type": "markdown",
   "metadata": {},
   "source": [
    "## Objective\n",
    "\n",
    "Review of basic OOP and data structure in Python while doing simple coordinates geometry"
   ]
  },
  {
   "cell_type": "markdown",
   "metadata": {},
   "source": [
    "## Skills"
   ]
  },
  {
   "cell_type": "markdown",
   "metadata": {},
   "source": [
    "- Plot points in a coordinate plane\n",
    "- Find the distance between two points in a coordinate plane\n",
    "    $$d=\\sqrt{(x_2-x_1)^2+(y_2-y_1)^2}$$\n",
    "- Find the midpoints of line segments connecting two points\n",
    "    $$Midpoint = (\\frac{x_1+x_2}{2},\\frac{y_1+y_2}{2})$$\n",
    "- Translate points in a coordinate plane"
   ]
  },
  {
   "cell_type": "markdown",
   "metadata": {},
   "source": [
    "## Activity 1\n",
    "\n",
    "Plot the points $(2,3), (0,6), (-5,1), (4,-3), (0.5,-4), (-1,-2), (-1.5,0), (6,-5)$."
   ]
  },
  {
   "cell_type": "markdown",
   "metadata": {},
   "source": [
    "## Activity 2\n",
    "\n",
    "Find the distance between the pair of points :\n",
    "- $(0,0), (5,2)$\n",
    "- $(1,2), (4,3)$\n",
    "- $(-1,3), (-4,6)$\n",
    "- $(6,8), (-3,7)$"
   ]
  },
  {
   "cell_type": "markdown",
   "metadata": {},
   "source": [
    "## Activity 3\n",
    "\n",
    "Find the midpoint of the line connecting the two points:\n",
    "\n",
    "- $(5,6), (9,2)$\n",
    "- $(0,0), (-4,8)$\n",
    "- $(-10,4), (-6,8)$\n",
    "- $(7,-9), (-3,5)$"
   ]
  },
  {
   "cell_type": "markdown",
   "metadata": {},
   "source": [
    "## Activity 4\n",
    "\n",
    "Translate the triangle whose vectices are $(1,3)$, $(2,4)$ and $(5,6)$ three units to the right and four units up.\n",
    "\n",
    "Find the coordinates of the translated vertices."
   ]
  },
  {
   "cell_type": "markdown",
   "metadata": {},
   "source": [
    "## Activity 5\n",
    "\n",
    "Translate the rectangle whose vertices are $(-2,1)$, $(-1,2)$, $(1,0)$ and $(0,-1)$ four units to the right and one unit down.\n",
    "\n",
    "Find the coordinates of the translated vertices."
   ]
  }
 ],
 "metadata": {
  "language_info": {
   "name": "python"
  }
 },
 "nbformat": 4,
 "nbformat_minor": 2
}
