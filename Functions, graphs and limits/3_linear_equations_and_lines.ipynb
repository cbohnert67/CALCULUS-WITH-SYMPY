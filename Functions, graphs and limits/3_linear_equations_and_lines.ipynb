{
 "cells": [
  {
   "cell_type": "markdown",
   "metadata": {},
   "source": [
    "# Linear Equations and Lines"
   ]
  },
  {
   "cell_type": "markdown",
   "metadata": {},
   "source": [
    "## Skills\n",
    "\n",
    "- Use the slope-intercept form of a linear equation to sketch graphs of lines\n",
    "$$y=mx+b$$\n",
    "- Find slopes of lines passing through two points\n",
    "$$m=\\frac{y_2-y_1}{x_2-x_1}$$\n",
    "- Use the point-slope form to write equations of lines and graph equations using Sympy\n",
    "$$y-y_1=m(x-x_1)$$\n",
    "- Find equations of parallel and perpendicular lines\n",
    "    - Parallel lines: $m_1=m_2$\n",
    "    - Perpendicular lines: $m_1=-\\frac{1}{m_2}$\n",
    "- Use linear equatins to solve real-life problems such as predicting future sales or creating a linear depreciation schedule"
   ]
  },
  {
   "cell_type": "markdown",
   "metadata": {},
   "source": [
    "### Activities"
   ]
  },
  {
   "cell_type": "markdown",
   "metadata": {},
   "source": [
    "### Activity 1\n",
    "\n",
    "Find the slope of the line passing through the two points:\n",
    "\n",
    "- $(0,0)$, $(7,6)$\n",
    "- $(-1,5)$, $(-5,7)$\n",
    "- $(10,17)$, $(-11,-3)$\n",
    "- $(-11,-3)$, $(-1,-3)$"
   ]
  },
  {
   "cell_type": "markdown",
   "metadata": {},
   "source": [
    "### Activity 2\n",
    "\n",
    "Find an equation of the line that passes through the point and has the given slope. Then sketch the line.\n",
    "\n",
    "- $(3,-1)$, $m=-2$\n",
    "- $(-3,-3)$, $m=\\frac{1}{2}$\n",
    "- $(1.5, -4)$, $m=0$\n",
    "- $(8,2)$, $m$ is undefined"
   ]
  },
  {
   "cell_type": "markdown",
   "metadata": {},
   "source": [
    "### Activity 3\n",
    "\n",
    "Find the general form of the equation of the line passing through the point and satisfying the given condition.\n",
    "\n",
    "Point $(-3,6)$\n",
    "\n",
    "- Slope is $\\frac{7}{8}\n",
    "- Parallel to the line $4x+2y=7$\n",
    "- Passes through the origin\n",
    "- Perpendicular to the line $3x-2y=2$\n",
    "\n",
    "\n",
    "Point $(1,-3)$\n",
    "\n",
    "- Parallel to the $x-$ axis\n",
    "- Perpendicular to the $x-$ axis\n",
    "- Parallel to the line $-4x+5y=-3$\n",
    "- Perpendicular to the line $5x-2y=3$"
   ]
  },
  {
   "cell_type": "markdown",
   "metadata": {},
   "source": [
    "### Activity 4\n",
    "\n",
    "When a wholesaler sold a product at 32€ per unit, sales were 750 units per week. After a price increase of 5€ per unit, however, the sales dropped to 700 units per week. \n",
    "\n",
    "- Write the quantity demanded $x$ as a linear function of the price $p$\n",
    "- Predict the number of units sold at a price of 34.5€ per unit\n",
    "- Predict the number of units sold at a price of 42€ per units"
   ]
  },
  {
   "cell_type": "markdown",
   "metadata": {},
   "source": [
    "### Activity 5\n",
    "\n",
    "A printing company purchases an advanced color copier/printer for 117000€. After 9 years, the equipment will be obsolete and have no value.\n",
    "\n",
    "- Write a linear equation giving the value $v$ of the equipment in terms of the time $t$\n",
    "- Use Sympy to graph the function\n",
    "- Use Sympy to estimate the value of the equipment after 4 years\n",
    "- Use Sympy to estimate the time when the equipment's value will be 84000€"
   ]
  }
 ],
 "metadata": {
  "language_info": {
   "name": "python"
  }
 },
 "nbformat": 4,
 "nbformat_minor": 2
}
