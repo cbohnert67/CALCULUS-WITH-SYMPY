{
 "cells": [
  {
   "cell_type": "markdown",
   "metadata": {},
   "source": [
    "# Graphs and Equations"
   ]
  },
  {
   "cell_type": "markdown",
   "metadata": {},
   "source": [
    "## Skills\n",
    "\n",
    "- Sketch graphs of equations by hand and by using Sympy\n",
    "- Find the $x-$ and $y-$ intercepts of graphs of equations algebraically and graphically\n",
    "- Write the standards forms of equations of circles, given the center and a point on the circle\n",
    "    $$(x-h)^2+(y-k)^2=r^2$$\n",
    "- Convert equations of circles from general form to standard form by completing the square, and sketch the circles\n",
    "- Find the points of intersection of two graphs algebraically and graphically"
   ]
  },
  {
   "cell_type": "markdown",
   "metadata": {},
   "source": [
    "## Activities"
   ]
  },
  {
   "cell_type": "markdown",
   "metadata": {},
   "source": [
    "### Activity 1\n",
    "\n",
    "Sketch the graph of the equation:\n",
    "\n",
    "$$y =4x-12$$\n",
    "$$y=4-3x$$\n",
    "$$y=x^2+5$$\n",
    "$$y=1-x^2$$\n",
    "$$y=\\vert 4-x \\vert$$\n",
    "$$y=\\vert 2x-3 \\vert$$\n",
    "$$y=x^3+4$$\n",
    "$$y=2x^3-1$$\n",
    "$$y=\\sqrt{4x+1}$$\n",
    "$$y=\\sqrt{2x}$$\n",
    "\n",
    "Check the graphs by using Sympy."
   ]
  },
  {
   "cell_type": "markdown",
   "metadata": {},
   "source": [
    "### Activity 2\n",
    "\n",
    "Find the $x-$ and $y-$ intercepts of the graph of the equation algebraically. Use Sympy to verify your results.\n",
    "\n",
    "$$4x+y+3=0$$\n",
    "$$y=(x-1)^3+2(x-1)^2$$"
   ]
  },
  {
   "cell_type": "markdown",
   "metadata": {},
   "source": [
    "### Activity 3\n",
    "\n",
    "Write the standard form of the equation of the circle.\n",
    "\n",
    "- Center $(0,0)$ and solution  point $(2, \\sqrt{5})$.\n",
    "- Center $(2,-1)$ and solution  point $(-1,7)$."
   ]
  },
  {
   "cell_type": "markdown",
   "metadata": {},
   "source": [
    "### Activity 4\n",
    "\n",
    "Write the equation of the circle in standard form. Determine the radius and center of the circle. Then sketch the circle.\n",
    "\n",
    "$$x^2+y^2-6x+8y=0$$\n",
    "$$x^2+y^2+10x+4y-7=0$$"
   ]
  },
  {
   "cell_type": "markdown",
   "metadata": {},
   "source": [
    "### Activity 5\n",
    "\n",
    "Find the point(s) of intersection of the graphs algebraically. Then use Sympy to verify your results.\n",
    "\n",
    "- $2x-3y=13$, $5x+3y=1$\n",
    "- $x^2+y^2=5$, $x-y=1$\n",
    "- $y=x^3$, $y=x$\n",
    "- $x^2+y=4$, $2x-y=1$"
   ]
  },
  {
   "cell_type": "markdown",
   "metadata": {},
   "source": []
  }
 ],
 "metadata": {
  "language_info": {
   "name": "python"
  }
 },
 "nbformat": 4,
 "nbformat_minor": 2
}
