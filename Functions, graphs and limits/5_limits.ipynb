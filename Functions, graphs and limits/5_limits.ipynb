{
 "cells": [
  {
   "cell_type": "markdown",
   "metadata": {},
   "source": [
    "# Limits"
   ]
  },
  {
   "cell_type": "markdown",
   "metadata": {},
   "source": [
    "## Skills\n",
    "\n",
    "- Detemine whether limits exist. If they do, find the limits\n",
    "- Use a table to estimate one-sided limits\n",
    "- Determine whether statements about limits are true or false"
   ]
  },
  {
   "cell_type": "markdown",
   "metadata": {},
   "source": [
    "## Activities"
   ]
  },
  {
   "cell_type": "markdown",
   "metadata": {},
   "source": [
    "### Activity 1\n",
    "\n",
    "Find the limit, if it exists.\n",
    "\n",
    "$$\\lim_{x \\rightarrow 2} 5x-3$$\n",
    "$$\\lim_{x \\rightarrow 2} 2x+9$$\n",
    "$$\\lim_{x \\rightarrow 2} (5x-3)(2x+9)$$\n",
    "$$\\lim_{x \\rightarrow 2} \\frac{5x-3}{2x+9}$$\n",
    "$$\\lim_{x \\rightarrow 3} \\frac{t^2+1}{t}$$\n",
    "$$\\lim_{x \\rightarrow 0} \\frac{t^2+1}{t}$$\n",
    "$$\\lim_{x \\rightarrow 1} \\frac{t+1}{t-2}$$\n",
    "$$\\lim_{x \\rightarrow 2} \\frac{t+1}{t-2}$$\n",
    "$$\\lim_{x \\rightarrow -2} \\frac{x+2}{x^2-4}$$\n",
    "$$\\lim_{x \\rightarrow 3^{-}} \\frac{x^2-9}{x-3}$$\n",
    "$$\\lim_{x \\rightarrow 0^{+}} x-\\frac{1}{x}$$\n",
    "$$\\lim_{x \\rightarrow \\frac{1}{2}} \\frac{2x-1}{6x-3}$$\n",
    "$$\\lim_{x \\rightarrow 0} \\frac{\\frac{1}{x-2}-1}{x}$$\n",
    "$$\\lim_{x \\rightarrow 0} \\frac{\\frac{1}{x-4}-\\frac{1}{4}}{x}$$\n",
    "$$\\lim_{x \\rightarrow 0} \\frac{\\frac{1}{\\sqrt(t+4)}-\\frac{1}{2}}{t}$$\n",
    "$$\\lim_{x \\rightarrow 0} \\frac{\\frac{1}{\\sqrt(1+s)}-1}{s}$$\n",
    "$$\\lim_{\\Delta x \\rightarrow 0} \\frac{(x+\\Delta x)^3-(x+ \\Delta x)-(x^3-x)}{\\Delta x}$$\n",
    "$$\\lim_{\\Delta x \\rightarrow 0} \\frac{1-(x+ \\Delta x)^2-(1-x^2)}{\\Delta x}$$\n",
    "\n",
    "\n",
    "\n",
    "\n",
    "\n",
    "\n",
    "\n"
   ]
  },
  {
   "cell_type": "markdown",
   "metadata": {},
   "source": [
    "### Activity 2\n",
    "\n",
    "Use a table to estimate the limit.\n",
    "\n",
    "$$\\lim_{x \\rightarrow 1^{+}} \\frac{\\sqrt{2x+1}-\\sqrt{3}}{x-1}$$\n",
    "$$\\lim_{x \\rightarrow 1^{+}} \\frac{1-x^{\\frac{1}{3}}}{x-1}$$"
   ]
  },
  {
   "cell_type": "markdown",
   "metadata": {},
   "source": [
    "### Activity 3\n",
    "\n",
    "Determine whether the statement is true or false. Explain why. \n",
    "\n",
    "$$\\lim_{x \\rightarrow 0} \\frac{\\vert x \\vert}{x}=1$$\n",
    "$$\\lim_{x \\rightarrow 0} x^3=0$$\n",
    "$$\\lim_{x \\rightarrow 0} \\sqrt{x}=0$$\n",
    "$$\\lim_{x \\rightarrow 0} x^{\\frac{1}{3}}=0$$\n",
    "\n",
    "$$\\text{If } f(x)= \\begin{cases}\n",
    "        3 & \\text{if } x \\le 2\\\\\n",
    "        0 & \\text{if } x > 2\n",
    "    \\end{cases} \\text{ , then } \\lim_{x \\rightarrow 2} f(x)=3$$\n",
    "\n",
    "$$\\text{If } f(x)= \\begin{cases}\n",
    "        x-2 & \\text{if } x \\le 3\\\\\n",
    "        -x^2+8x-14 & \\text{if } x > 3\n",
    "    \\end{cases} \\text{ , then } \\lim_{x \\rightarrow 3} f(x)=1$$\n",
    "\n",
    "\n"
   ]
  }
 ],
 "metadata": {
  "language_info": {
   "name": "python"
  }
 },
 "nbformat": 4,
 "nbformat_minor": 2
}
