{
 "cells": [
  {
   "cell_type": "markdown",
   "metadata": {},
   "source": [
    "# Functions"
   ]
  },
  {
   "cell_type": "markdown",
   "metadata": {},
   "source": [
    "## Skills\n",
    "\n",
    "- Use the Vertical Line Test to decide whether graphs define functions\n",
    "- Use function notation to evaluate functions\n",
    "- Use Sympy to graph functions and find the domains and ranges of functions\n",
    "- Combine functions to create other functions\n",
    "- Use the Horizontal Line Test to determine whether functions have inverse functions. If they do, find the inverse function."
   ]
  },
  {
   "cell_type": "markdown",
   "metadata": {},
   "source": []
  }
 ],
 "metadata": {
  "language_info": {
   "name": "python"
  }
 },
 "nbformat": 4,
 "nbformat_minor": 2
}
