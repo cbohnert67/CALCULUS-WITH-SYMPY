{
 "cells": [
  {
   "cell_type": "markdown",
   "metadata": {},
   "source": [
    "# Functions"
   ]
  },
  {
   "cell_type": "markdown",
   "metadata": {},
   "source": [
    "## Skills\n",
    "\n",
    "- Use the Vertical Line Test to decide whether graphs define functions\n",
    "- Use function notation to evaluate functions\n",
    "- Use Sympy to graph functions and find the domains and ranges of functions\n",
    "- Combine functions to create other functions\n",
    "- Use the Horizontal Line Test to determine whether functions have inverse functions. If they do, find the inverse function"
   ]
  },
  {
   "cell_type": "markdown",
   "metadata": {},
   "source": [
    "## Activities"
   ]
  },
  {
   "cell_type": "markdown",
   "metadata": {},
   "source": [
    "### Activity 1\n",
    "\n",
    "Sketch a graph and use the Vertical Line Test to determine whether $y$ is a function of $x$:\n",
    "\n",
    "$$y=-x^2+2$$\n",
    "$$x^2+y^2=4$$\n",
    "$$y^2-\\frac{x^2}{4}=4$$\n",
    "$$y=\\vert x+4 \\vert$$"
   ]
  },
  {
   "cell_type": "markdown",
   "metadata": {},
   "source": [
    "### Activity 2\n",
    "\n",
    "Evaluate the function at the specified values of the independent variable. Simplify the result.\n",
    "\n",
    "\n",
    "$f(x)=3x+4$\n",
    "$$f(1)$$\n",
    "$$f(x+1)$$\n",
    "$$f(2+\\Delta x)$$\n",
    "\n",
    "$f(x)=x^2+4x+3$\n",
    "$$f(0)$$\n",
    "$$f(x-1)$$\n",
    "$$f(x+\\Delta x)-f(x)$$"
   ]
  },
  {
   "cell_type": "markdown",
   "metadata": {},
   "source": [
    "### Activity 3\n",
    "\n",
    "Use Sympy to graph the function. Then find the domain and the range of the function.\n",
    "\n",
    "$$f(x)=x^3+2x^2-x+2$$\n",
    "$$f(x)=2$$\n",
    "$$f(x)=\\sqrt{x+1}$$\n",
    "$$f(x)=\\frac{x-3}{x^2+x-12}$$\n",
    "$$f(x)=-\\vert x \\vert +3$$\n",
    "$$f(x)=-\\frac{12}{13}x-\\frac{7}{8}$$"
   ]
  },
  {
   "cell_type": "markdown",
   "metadata": {},
   "source": [
    "### Activity 4\n",
    "\n",
    "Use $f$ and $g$ to find the combinations of the functions. Simplify the results.\n",
    "\n",
    "$$f(x)+g(x)$$\n",
    "$$f(x)-g(x)$$\n",
    "$$f(x)g(x)$$\n",
    "$$\\frac{f(x)}{g(x)}$$\n",
    "$$f(g(x))$$\n",
    "$$g(f(x))$$\n",
    "\n",
    "- $f(x)=1+x^2$, $g(x)=2x-1$\n",
    "- $f(x)=2x-3$, $g(x)=\\sqrt{x+1}$"
   ]
  },
  {
   "cell_type": "markdown",
   "metadata": {},
   "source": [
    "### Activity 5\n",
    "\n",
    "Find the inverse function of $f$ if it exists.\n",
    "\n",
    "$$f(x)=\\frac{3}{2}x$$\n",
    "$$f(x)=\\vert x+1 \\vert$$\n",
    "$$f(x)=-x^2+\\frac{1}{2}$$\n",
    "$$f(x)=x^3-1$$"
   ]
  }
 ],
 "metadata": {
  "language_info": {
   "name": "python"
  }
 },
 "nbformat": 4,
 "nbformat_minor": 2
}
